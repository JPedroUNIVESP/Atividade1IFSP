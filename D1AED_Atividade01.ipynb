{
 "cells": [
  {
   "cell_type": "markdown",
   "metadata": {},
   "source": [
    "# D1AED: Análise Estatística para Ciência de Dados (IFSP Campinas)"
   ]
  },
  {
   "cell_type": "markdown",
   "metadata": {},
   "source": [
    "## Atividade em Grupo 1 - Prazo: 09/05/2023 às 23:59\n",
    "Nesta atividade, cada grupo (**máximo de 3 integrantes**) deverá resolver a lista de exercícios presentes neste notebook. Todos os exercícios deverão ser respondidos no própio notebook usando Python. \n",
    "\n",
    "#### Submissão\n",
    "- Cada grupo deverá submeter um **arquivo .zip** contendo o _notebook_ com as respostas e a pasta `datasets`, contendo todos os datasets usados no notebook;\n",
    "- A submissão da atividade será feita em tarefa específica no Moodle da disciplina;\n",
    "- Apenas **um membro do grupo** deverá submeter a atividade;\n",
    "- Há materiais de apoio/estudos na tarefa do Moodle.\n",
    "\n",
    "**Prazo:** 09/05/2023 às 23:59"
   ]
  },
  {
   "cell_type": "markdown",
   "metadata": {},
   "source": [
    "#### **Nomes e Prontuários dos Integrantes do Grupo (máx 3):**\n",
    "- Evandro Costa (CP3021947)\n",
    "- Jaqueline Jana (CP3021891)\n",
    "- João Pedro Oliveira (CP3021696)"
   ]
  },
  {
   "cell_type": "code",
   "execution_count": 1,
   "metadata": {
    "tags": []
   },
   "outputs": [],
   "source": [
    "import random\n",
    "import numpy as np\n",
    "\n",
    "random.seed(42)\n",
    "np.random.seed(seed=42)"
   ]
  },
  {
   "cell_type": "markdown",
   "metadata": {},
   "source": [
    "### Questão 1\n",
    "At a given university, forty percent of students speak three languages. When randomly selecting 15 students:"
   ]
  },
  {
   "cell_type": "markdown",
   "metadata": {},
   "source": [
    "**(a)** What is the probability that 3 students speak three languages?"
   ]
  },
  {
   "cell_type": "code",
   "execution_count": 2,
   "metadata": {},
   "outputs": [
    {
     "name": "stdout",
     "output_type": "stream",
     "text": [
      "A probabilidade de escolher 15 estudantes e 3 falarem três línguas é de 6.34%\n"
     ]
    }
   ],
   "source": [
    "#Importando da biblioteca scipy.stats as funções de distribuição binomial\n",
    "\n",
    "from scipy.stats import binom\n",
    "\n",
    "#Definindo a probabilidade de sucesso e fracasso\n",
    "\n",
    "#sucesso\n",
    "\n",
    "p = 0.4\n",
    "\n",
    "#fracasso\n",
    "\n",
    "q = 1 - p\n",
    "\n",
    "#Definindo os parâmetros que iremos utilizar para calcular a PMF\n",
    "\n",
    "n = 15\n",
    "k = 3\n",
    "\n",
    "#Calculando a PMF\n",
    "\n",
    "prob = binom.pmf(k, n, p)\n",
    "\n",
    "print(f'''A probabilidade de escolher 15 estudantes e 3 falarem três línguas é de {round(prob*100,2)}%''')"
   ]
  },
  {
   "cell_type": "markdown",
   "metadata": {},
   "source": [
    "**(b)** What is the probability that 12 students do not speak three languages?"
   ]
  },
  {
   "cell_type": "code",
   "execution_count": 3,
   "metadata": {},
   "outputs": [
    {
     "name": "stdout",
     "output_type": "stream",
     "text": [
      "A probabilidade de escolher 15 estudantes e 12 não falarem três línguas é de 6.34%\n"
     ]
    }
   ],
   "source": [
    "# Podemos considerar que a nossa probabilidade de sucesso agora é a probabilidade de fracasso no exercício anterior\n",
    "\n",
    "#Calculando diretamente a PMF\n",
    "\n",
    "new_prob = binom.pmf(k = 12, n = 15, p = 0.6)\n",
    "\n",
    "print(f'''A probabilidade de escolher 15 estudantes e 12 não falarem três línguas é de {round(new_prob*100,2)}%''')"
   ]
  },
  {
   "cell_type": "markdown",
   "metadata": {},
   "source": [
    "**(c)** What is the probability that at least 3 students speak three languages?"
   ]
  },
  {
   "cell_type": "code",
   "execution_count": 4,
   "metadata": {},
   "outputs": [
    {
     "name": "stdout",
     "output_type": "stream",
     "text": [
      "Via probabilidade >= 3:\n",
      "A probabilidade de escolher 15 estudantes e pelo menos 3 falarem três línguas é de 97.29%\n",
      "\n",
      "Via probabilidade < 3:\n",
      "A probabilidade de escolher 15 estudantes e pelo menos 3 falarem três línguas é de 97.29%\n",
      "\n",
      "Via CDF:\n",
      "A probabilidade de escolher 15 estudantes e pelo menos 3 falarem três línguas é de 97.29%\n"
     ]
    }
   ],
   "source": [
    "# Podemos calcular a probabilidade de 3,4,5,6,7,8,9,10,11,12,13,14 e 15\n",
    "\n",
    "\n",
    "prob_3 = binom.pmf(k = 3, n = 15, p = 0.4)\n",
    "prob_4 = binom.pmf(k = 4, n = 15, p = 0.4)\n",
    "prob_5 = binom.pmf(k = 5, n = 15, p = 0.4)\n",
    "prob_6 = binom.pmf(k = 6, n = 15, p = 0.4)\n",
    "prob_7 = binom.pmf(k = 7, n = 15, p = 0.4)\n",
    "prob_8 = binom.pmf(k = 8, n = 15, p = 0.4)\n",
    "prob_9 = binom.pmf(k = 9, n = 15, p = 0.4)\n",
    "prob_10 = binom.pmf(k = 10, n = 15, p = 0.4)\n",
    "prob_11 = binom.pmf(k = 11, n = 15, p = 0.4)\n",
    "prob_12 = binom.pmf(k = 12, n = 15, p = 0.4)\n",
    "prob_13 = binom.pmf(k = 13, n = 15, p = 0.4)\n",
    "prob_14 = binom.pmf(k = 14, n = 15, p = 0.4)\n",
    "prob_15 = binom.pmf(k = 15, n = 15, p = 0.4)\n",
    "\n",
    "prob_final = prob_3+prob_4+prob_5+prob_6+prob_7+prob_8+prob_9+prob_10+prob_11+prob_12+prob_13+prob_14+prob_15\n",
    "\n",
    "print(\"Via probabilidade >= 3:\")\n",
    "print(f'''A probabilidade de escolher 15 estudantes e pelo menos 3 falarem três línguas é de {round(prob_final*100,2)}%\\n''')\n",
    "\n",
    "# Ou podemos calcular a probabilidade de 0, 1, 2 e subtrair de 100%\n",
    "\n",
    "prob_0 = binom.pmf(k = 0, n = 15, p = 0.4)\n",
    "prob_1 = binom.pmf(k = 1, n = 15, p = 0.4)\n",
    "prob_2 = binom.pmf(k = 2, n = 15, p = 0.4)\n",
    "\n",
    "prob_final2 = prob_0+prob_1+prob_2\n",
    "\n",
    "print(\"Via probabilidade < 3:\")\n",
    "print(f'''A probabilidade de escolher 15 estudantes e pelo menos 3 falarem três línguas é de {round(100-prob_final2*100,2)}%\\n''')\n",
    "\n",
    "# Ou poderíamos calcular a CDF\n",
    "\n",
    "prob_cdf = 1 - binom.cdf(k = 2, n = 15, p = 0.4)\n",
    "\n",
    "print(\"Via CDF:\")\n",
    "print(f'''A probabilidade de escolher 15 estudantes e pelo menos 3 falarem três línguas é de {round(prob_cdf*100,2)}%''')\n"
   ]
  },
  {
   "cell_type": "markdown",
   "metadata": {},
   "source": [
    "### Questão 2\n",
    "\n",
    "The mean of defects in ethernet cables manufactured by a company is 1.2 defects for every 6 meters of length. \n",
    "What is the probability of getting less than 2 defects when inspecting 6 meters of cable at random?"
   ]
  },
  {
   "cell_type": "code",
   "execution_count": 5,
   "metadata": {},
   "outputs": [
    {
     "name": "stdout",
     "output_type": "stream",
     "text": [
      "A probabilidade de ao inspecionar 6 metros de cabo e ter menos que 2 defeitos é de 66.26%\n"
     ]
    }
   ],
   "source": [
    "#Neste exercício iremos utilizar a distribuição de Poisson\n",
    "\n",
    "from scipy.stats import poisson\n",
    "\n",
    "mu = 1.2\n",
    "\n",
    "#Utilizando PMF temos\n",
    "\n",
    "prob_0 = poisson.pmf(k = 0, mu = 1.2)\n",
    "prob_1 = poisson.pmf(k = 1, mu = 1.2)\n",
    "\n",
    "prob_final = prob_0 + prob_1\n",
    "\n",
    "print(f'''A probabilidade de ao inspecionar 6 metros de cabo e ter menos que 2 defeitos é de {round(prob_final*100,2)}%''')"
   ]
  },
  {
   "cell_type": "markdown",
   "metadata": {},
   "source": [
    "### Questão 3\n",
    "\n",
    "If we consider the distribution of blood types in Hawkins —— where 30% of the population has O+ blood type, 33% has A+, 12% has B+, 6% has AB+, 7% has O-, 8% has A-, 3% has B-, and 1% has AB- —— what is the probability that a group of 15 randomly chosen Austrian citizens will consist of 3 individuals with O+ blood type, 2 with A+, 3 with B+, 2 with AB+, 1 with O- blood type?"
   ]
  },
  {
   "cell_type": "code",
   "execution_count": 6,
   "metadata": {
    "tags": []
   },
   "outputs": [
    {
     "name": "stdout",
     "output_type": "stream",
     "text": [
      "A probabilidade será de 0.01005%\n"
     ]
    }
   ],
   "source": [
    "#Importando a biblioteca de probabilidade multinomial\n",
    "\n",
    "from scipy.stats import multinomial\n",
    "\n",
    "#Declarando as probabilidades individualmente\n",
    "\n",
    "prob_o_positive = 0.30\n",
    "prob_a_positive = 0.33\n",
    "prob_b_positive = 0.12\n",
    "prob_ab_positive = 0.06\n",
    "prob_o_negative = 0.07\n",
    "prob_a_negative = 0.08\n",
    "prob_b_negative = 0.03\n",
    "prob_ab_negative = 0.01\n",
    "\n",
    "#Declarando o vetor de probabilidade\n",
    "\n",
    "vetor_prob = [prob_o_positive,prob_a_positive,prob_b_positive,prob_ab_positive,prob_o_negative,prob_a_negative,prob_b_negative,prob_ab_negative]\n",
    "\n",
    "#Declarando o vetor de quantidade \n",
    "\n",
    "qtd = [3, 2, 3, 2, 1, 0, 0, 0]\n",
    "\n",
    "#Perceba que o número total do vetor qtd é de 11 e não 15 conforme o enunciado. Podemos fazer um truque:\n",
    "\n",
    "new_qtd = [3, 2, 3, 2, 1, 4]\n",
    "\n",
    "vetor_prob_new = [prob_o_positive,prob_a_positive,prob_b_positive,prob_ab_positive,prob_o_negative,prob_a_negative+prob_b_negative+prob_ab_negative]\n",
    "\n",
    "#Calculando a probabilidade\n",
    "\n",
    "prob = multinomial.pmf(x = new_qtd, n = 15, p = vetor_prob_new)\n",
    "\n",
    "print(f'''A probabilidade será de {round(prob*100,5)}%''')"
   ]
  },
  {
   "cell_type": "markdown",
   "metadata": {},
   "source": [
    "### Questão 4\n",
    "\n",
    "Patients with a serious illness have been treated by a drug that causes a side effect at a rate of three patiences in a hundred. When selecting ten patients treated with this drug, what is the chance that at least one will have side effects?"
   ]
  },
  {
   "cell_type": "code",
   "execution_count": 7,
   "metadata": {},
   "outputs": [
    {
     "name": "stdout",
     "output_type": "stream",
     "text": [
      "A probabilidade será de 26.26%\n"
     ]
    }
   ],
   "source": [
    "#Probabilidade de efeito colateral \n",
    "\n",
    "p = 3/100\n",
    "q = 97/100\n",
    "\n",
    "#Calculando as probabilidades para 0 e tirando de 100%\n",
    "\n",
    "prob = binom.pmf(k = 0 , n = 10, p = p)\n",
    "\n",
    "print(f'''A probabilidade será de {round((1-prob)*100,2)}%''')"
   ]
  },
  {
   "cell_type": "markdown",
   "metadata": {},
   "source": [
    "### Questão 5\n",
    "\n",
    "The length of a human pregnancy approximates a normal distribution with a mean of 272 days with a standard deviation of 9 days."
   ]
  },
  {
   "cell_type": "markdown",
   "metadata": {},
   "source": [
    "**(a)** What proportion of all pregnancies will last between 265 and 280 days?"
   ]
  },
  {
   "cell_type": "code",
   "execution_count": 8,
   "metadata": {},
   "outputs": [
    {
     "name": "stdout",
     "output_type": "stream",
     "text": [
      "A probabilidade será de 59.46%\n"
     ]
    }
   ],
   "source": [
    "from scipy.stats import norm\n",
    "\n",
    "#De acordo com a documentação o parâmetro loc é a média e scale é o devio padrão\n",
    "\n",
    "prob_280 = norm.cdf(x= 280, loc = 272, scale = 9)\n",
    "prob_265 = norm.cdf(x = 265, loc = 272, scale = 9)\n",
    "\n",
    "print(f'''A probabilidade será de {round(100*(prob_280-prob_265),2)}%''')"
   ]
  },
  {
   "cell_type": "markdown",
   "metadata": {},
   "source": [
    "**(b)** What length of time marks the shortest 70% of all pregnancies? "
   ]
  },
  {
   "cell_type": "code",
   "execution_count": 9,
   "metadata": {},
   "outputs": [
    {
     "name": "stdout",
     "output_type": "stream",
     "text": [
      "276.77 dias\n"
     ]
    }
   ],
   "source": [
    "# De acordo com a tabela Z o valor para uma área de 0.7 é de aproximadamente 0.53. Logo\n",
    "\n",
    "x = 0.53*9+272\n",
    "\n",
    "print(f'''{x} dias''')"
   ]
  },
  {
   "cell_type": "markdown",
   "metadata": {},
   "source": [
    "### Questão 6\n",
    "\n",
    "The average numbers of traffic accidents on a certain section of highway is 0.5 per week. <br/>\n",
    "Find the probability that:"
   ]
  },
  {
   "cell_type": "markdown",
   "metadata": {},
   "source": [
    "**(a)** There will be less than 2 accidents in a week selected at random:"
   ]
  },
  {
   "cell_type": "code",
   "execution_count": 10,
   "metadata": {},
   "outputs": [
    {
     "name": "stdout",
     "output_type": "stream",
     "text": [
      "A probabilidade será de 90.98%\n"
     ]
    }
   ],
   "source": [
    "from scipy.stats import poisson\n",
    "\n",
    "prob_0 = poisson.pmf(k = 0, mu = 0.5)\n",
    "prob_1 = poisson.pmf(k = 1, mu = 0.5)\n",
    "\n",
    "prob_final = prob_0 + prob_1\n",
    "\n",
    "print(f'''A probabilidade será de {round(prob_final*100,2)}%''')"
   ]
  },
  {
   "cell_type": "markdown",
   "metadata": {},
   "source": [
    "**(b)** In a particular week, there will be more than 2 accidents:"
   ]
  },
  {
   "cell_type": "code",
   "execution_count": 11,
   "metadata": {},
   "outputs": [
    {
     "name": "stdout",
     "output_type": "stream",
     "text": [
      "A probabilidade será de 1.44%\n"
     ]
    }
   ],
   "source": [
    "prob_0 = poisson.pmf(k = 0, mu = 0.5)\n",
    "prob_1 = poisson.pmf(k = 1, mu = 0.5)\n",
    "prob_2 = poisson.pmf(k = 2, mu = 0.5)\n",
    "\n",
    "prob_final = 1 - prob_0 - prob_1 - prob_2\n",
    "\n",
    "print(f'''A probabilidade será de {round(prob_final*100,2)}%''')"
   ]
  },
  {
   "cell_type": "markdown",
   "metadata": {},
   "source": [
    "**(c)** There will be no accidents in three weeks:"
   ]
  },
  {
   "cell_type": "code",
   "execution_count": 12,
   "metadata": {},
   "outputs": [
    {
     "name": "stdout",
     "output_type": "stream",
     "text": [
      "A probabilidade será de 22.31%\n"
     ]
    }
   ],
   "source": [
    "# 0.5 acidentes por semana, logo teremos 1.5 acidentes por 3 semanas\n",
    "\n",
    "prob_0 = poisson.pmf(k = 0, mu = 1.5)\n",
    "\n",
    "prob_final = prob_0\n",
    "\n",
    "print(f'''A probabilidade será de {round(prob_final*100,2)}%''')"
   ]
  },
  {
   "cell_type": "markdown",
   "metadata": {},
   "source": [
    "### Questão 7\n",
    "\n",
    "Suppose you are drawing cards randomly from a standard deck with 52 cards, replacing each card after drawing, and repeating the process five times. What is the likelihood of drawing one heart, one spade, one club, and two diamonds?"
   ]
  },
  {
   "cell_type": "code",
   "execution_count": 13,
   "metadata": {
    "tags": []
   },
   "outputs": [
    {
     "name": "stdout",
     "output_type": "stream",
     "text": [
      "A probabilidade será de 5.86%\n"
     ]
    }
   ],
   "source": [
    "#Importando a biblioteca de probabilidade multinomial\n",
    "\n",
    "from scipy.stats import multinomial\n",
    "\n",
    "# Probabilidades\n",
    "\n",
    "p_heart = 13/52\n",
    "p_spade = 13/52\n",
    "p_club = 13/52\n",
    "p_diamonds = 13/52\n",
    "\n",
    "vetor_prob = [p_heart, p_spade, p_club, p_diamonds]\n",
    "\n",
    "# Quantidades\n",
    "\n",
    "qtd = [1,1,1,2]\n",
    "\n",
    "#Calculando a probabilidade\n",
    "\n",
    "prob = multinomial.pmf(x = qtd, n = 5, p = vetor_prob)\n",
    "\n",
    "print(f'''A probabilidade será de {round(prob*100,2)}%''')"
   ]
  },
  {
   "cell_type": "markdown",
   "metadata": {},
   "source": [
    "### Questão 8\n",
    "\n",
    "A factory produces chocolates in boxes of 200. The probability of missing one chocolate in a box is 0.006. What is the probability that a randomly selected box is missing at most two chocolates? <br/>\n",
    "**Tip:** [Poisson Approximation to the Binomial.](https://bestmaths.net/online/index.php/year-levels/year-12/year-12-topic-list/poisson-approximation-binomial/#:~:text=Poisson%20Approximation%20to%20the%20Binomial&text=When%20the%20value%20of%20n,Poisson%20is%20a%20good%20approximation.)"
   ]
  },
  {
   "cell_type": "code",
   "execution_count": 14,
   "metadata": {},
   "outputs": [
    {
     "name": "stdout",
     "output_type": "stream",
     "text": [
      "A probabilidade será de 21.69%\n"
     ]
    }
   ],
   "source": [
    "# De acordo com o link podemos resolver o exercício como uma distribuição de Poisson:\n",
    "\n",
    "from scipy.stats import poisson\n",
    "\n",
    "new_mu = 200 * 0.006\n",
    "\n",
    "prob_final = poisson.pmf(k = 2, mu = new_mu)\n",
    "\n",
    "print(f'''A probabilidade será de {round(prob_final*100,2)}%''')"
   ]
  },
  {
   "cell_type": "markdown",
   "metadata": {},
   "source": [
    "### Questão 9\n",
    "In a town, the distance traveled by students to school is normally distributed with $\\mu=7.5$km and $\\sigma=2.5$km."
   ]
  },
  {
   "cell_type": "markdown",
   "metadata": {},
   "source": [
    "**(a)** What is the probability that the distance covered by a randomly selected student is less than 11 km?"
   ]
  },
  {
   "cell_type": "code",
   "execution_count": 15,
   "metadata": {},
   "outputs": [
    {
     "name": "stdout",
     "output_type": "stream",
     "text": [
      "A probabilidade será de 91.92%\n"
     ]
    }
   ],
   "source": [
    "from scipy.stats import norm\n",
    "\n",
    "loc = 7.5\n",
    "scale = 2.5\n",
    "\n",
    "#De acordo com a documentação o parâmetro loc é a média e scale é o devio padrão\n",
    "\n",
    "prob_11 = norm.cdf(x= 11, loc = loc, scale = scale)\n",
    "\n",
    "print(f'''A probabilidade será de {round(100*(prob_11),2)}%''')"
   ]
  },
  {
   "cell_type": "markdown",
   "metadata": {},
   "source": [
    "**(b)** What is the probability that the distance covered by a randomly selected student is betweem 5.5 km than 10.5 km?"
   ]
  },
  {
   "cell_type": "code",
   "execution_count": 16,
   "metadata": {},
   "outputs": [
    {
     "name": "stdout",
     "output_type": "stream",
     "text": [
      "A probabilidade será de 67.31%\n"
     ]
    }
   ],
   "source": [
    "from scipy.stats import norm\n",
    "\n",
    "loc = 7.5\n",
    "scale = 2.5\n",
    "\n",
    "#De acordo com a documentação o parâmetro loc é a média e scale é o devio padrão\n",
    "\n",
    "prob_5_5 = norm.cdf(x= 5.5, loc = loc, scale = scale)\n",
    "prob_10_5 = norm.cdf(x= 10.5, loc = loc, scale = scale)\n",
    "\n",
    "print(f'''A probabilidade será de {round(100*(prob_10_5-prob_5_5),2)}%''')"
   ]
  },
  {
   "cell_type": "markdown",
   "metadata": {},
   "source": [
    "**(c)** Find _d_ such that 10% of the students travel less than _d_ kilometers to school."
   ]
  },
  {
   "cell_type": "code",
   "execution_count": 17,
   "metadata": {},
   "outputs": [
    {
     "name": "stdout",
     "output_type": "stream",
     "text": [
      "O valor é de 4.5 km \n"
     ]
    }
   ],
   "source": [
    "# De acordo com a tabela Z temos um valor de aproxidamente 1.28 para 90%. Logo para 10% temos -1.28\n",
    "\n",
    "x = -1.2*2.5+7.5\n",
    "\n",
    "print(f'''O valor é de {x} km ''')"
   ]
  },
  {
   "cell_type": "markdown",
   "metadata": {},
   "source": [
    "**(d)** What is the probability that the mean distance traveled by a random sample of 6 students is less than 5 km? <br/>\n",
    "**Tip:** Central Limit Theorem."
   ]
  },
  {
   "cell_type": "code",
   "execution_count": 18,
   "metadata": {},
   "outputs": [
    {
     "name": "stdout",
     "output_type": "stream",
     "text": [
      "0.9192433407662289\n"
     ]
    }
   ],
   "source": [
    "from scipy.stats import norm\n",
    "\n",
    "media = 7.5\n",
    "desvio_padrao = 2.5\n",
    "limite = 11\n",
    "\n",
    "prob = norm.cdf(limite, media, desvio_padrao)\n",
    "\n",
    "print(prob)"
   ]
  },
  {
   "cell_type": "markdown",
   "metadata": {},
   "source": [
    "### Questão 10\n",
    "\n",
    "Suppose a recent poll showed that among the respondents, 23% supported candidate A, 19% supported candidate B, 13% supported candidate C, and the rest were undecided. If seven individuals are randomly selected, what is the likelihood that 2 of them support candidate A, 2 support candidate B, and 1 supports candidate C?"
   ]
  },
  {
   "cell_type": "code",
   "execution_count": 19,
   "metadata": {
    "tags": []
   },
   "outputs": [
    {
     "name": "stdout",
     "output_type": "stream",
     "text": [
      "A probabilidade será de 3.17%\n"
     ]
    }
   ],
   "source": [
    "#Vetor e probabilidades\n",
    "\n",
    "prob_a = 0.23\n",
    "prob_b = 0.19\n",
    "prob_c = 0.13\n",
    "prob_rest = 0.45\n",
    "\n",
    "vetor = [prob_a, prob_b, prob_c, prob_rest]\n",
    "\n",
    "#Vetor de quantidade\n",
    "\n",
    "qtd = [2, 2, 1, 2]\n",
    "\n",
    "prob = multinomial.pmf(x = qtd, n = 7, p = vetor)\n",
    "\n",
    "print(f'''A probabilidade será de {round(prob*100,2)}%''')"
   ]
  },
  {
   "cell_type": "markdown",
   "metadata": {},
   "source": [
    "### Questão 11\n",
    "\n",
    "The recovery time of a patient with a certain illness follows a normal distribution with a standard deviation of 2 days. Calculate the confidence level for a sample of 12 patients which indicates that the population recovery time is between 13 and 15 days."
   ]
  },
  {
   "cell_type": "code",
   "execution_count": 20,
   "metadata": {},
   "outputs": [
    {
     "name": "stdout",
     "output_type": "stream",
     "text": [
      "Intervalo de confiança: [13.00, 15.00]\n",
      "\n",
      "Isso significa que temos 92% de confiança de que a média populacional está entre 13.00 e 15.00 dias.\n",
      "\n",
      "Intervalo de confiança: [13.00, 15.00]\n"
     ]
    }
   ],
   "source": [
    "from scipy.stats import norm\n",
    "import math\n",
    "\n",
    "# Dados de input\n",
    "n = 12\n",
    "mean = (13 + 15) / 2\n",
    "std = 2\n",
    "limite_inferior = 13\n",
    "limite_superior = 15\n",
    "\n",
    "\n",
    "#  Considerando que o intervalo de confiança é dado por:\n",
    "# limite_inferior = mean + (z_score * (std /sqrt(n)))\n",
    "# limite_inferior = mean - (z_score * (std/sqrt(n)))\n",
    "\n",
    "z_score = (limite_inferior - mean) * math.sqrt(n) / std\n",
    "\n",
    "# Para o valor de z_score encontrado, buscar na tabela Z-score o nível de significancia alpha = 2*0.0418, ou utilizar a função de distribuição acumulada cdf temos:\n",
    "\n",
    "alpha_ = 2 * norm.cdf(z_score)\n",
    "conf_level = 1 - alpha_\n",
    "\n",
    "print(\"Intervalo de confiança: [{:.2f}, {:.2f}]\\n\".format(limite_inferior, limite_superior))\n",
    "print(\"Isso significa que temos {:.0f}% de confiança de que a média populacional está entre {:.2f} e {:.2f} dias.\\n\".format(conf_level*100, limite_inferior, limite_superior))\n",
    "print(\"Intervalo de confiança: [13.00, 15.00]\")"
   ]
  },
  {
   "cell_type": "markdown",
   "metadata": {},
   "source": [
    "### Questão 12\n",
    "\n",
    "John moved out to _Stats City_ for work. John needs to rent a place to live, so he has compiled a list of 60 apartments randomly chosen from the EasyRent real estate. This compilation is stored at the dataset `'./datasets/rents.csv'`, where the column `price` is the monthly rent price in dollars."
   ]
  },
  {
   "cell_type": "markdown",
   "metadata": {},
   "source": [
    "**(a)** Construct a 95% confidence interval by Central Limit Theorem and Bootstrapping. Compare the results."
   ]
  },
  {
   "cell_type": "code",
   "execution_count": 21,
   "metadata": {
    "scrolled": true
   },
   "outputs": [
    {
     "name": "stdout",
     "output_type": "stream",
     "text": [
      "A média da coluna price da base original é de 1000.13\n",
      "\n",
      "O desvio padrão da coluna price da base original é de 204.71\n",
      "\n",
      "A nova média é 999.55 \n",
      "\n",
      "O novo desvio padrão é 37.38 \n",
      "\n",
      "Temos uma distribuição X ~N(999.55,37.38) \n",
      "\n",
      "Utilizando o Teorema Central do Limite temos um intervalo de confiança de [926.3,1072.81]\n",
      "\n",
      "Utilizando o Bootstrap temos um intervalo de confiança de [950.42,1052.65] \n"
     ]
    }
   ],
   "source": [
    "#Importando a biblioteca Pandas\n",
    "\n",
    "import pandas as pd\n",
    "import math\n",
    "\n",
    "#Carregando a base de dados\n",
    "df = pd.read_csv('./datasets/rents.csv')\n",
    "\n",
    "#Calculando a média e desvio padrão da base\n",
    "\n",
    "media_original = df['price'].mean()\n",
    "std_original = df['price'].std()\n",
    "\n",
    "print(f'''A média da coluna price da base original é de {round(df['price'].mean(),2)}\\n''')\n",
    "print(f'''O desvio padrão da coluna price da base original é de {round(df['price'].std(),2)}\\n''')\n",
    "\n",
    "#Fazendo 100 amostras de 30, calculando a média e guardando em uma lista\n",
    "\n",
    "media = []\n",
    "\n",
    "for i in range(0,100):\n",
    "    df_new = df.sample(30)\n",
    "    media.append(df_new['price'].mean())\n",
    "\n",
    "#Calculando a média da distribuição das médias\n",
    "\n",
    "nova_media = np.mean(media)\n",
    "\n",
    "print(f'''A nova média é {round(np.mean(media),2)} \\n''')\n",
    "\n",
    "#Calculando o novo desvio padrão\n",
    "\n",
    "novo_std = std_original/math.sqrt(30)\n",
    "\n",
    "print(f'''O novo desvio padrão é {round(std_original/math.sqrt(30),2)} \\n''')\n",
    "\n",
    "print(f'''Temos uma distribuição X ~N({round(nova_media,2)},{round(novo_std,2)}) \\n''')\n",
    "\n",
    "#Para uma confiança de 95% temos um Z = 1,96. Logo calculando o intervalo de confiança como sendo Z(alfa/2) * std / raiz(n)\n",
    "\n",
    "e = 1.96 * novo_std\n",
    "\n",
    "print(f'''Utilizando o Teorema Central do Limite temos um intervalo de confiança de [{round(nova_media-e,2)},{round(nova_media+e,2)}]\\n''')\n",
    "\n",
    "#Utilizando Bootstrap\n",
    "\n",
    "from scipy.stats import bootstrap\n",
    "\n",
    "#Transformando o DataFrame em numpy array\n",
    "\n",
    "df_array = df['price'].to_numpy()\n",
    "\n",
    "#Lendo a documentação, é necessário tranformar nosso numpy array em uma nupla. O código abaixo faz isso\n",
    "\n",
    "df_array = (df_array,)\n",
    "\n",
    "#Realizando o Bootstrap\n",
    "\n",
    "res = bootstrap(df_array, np.mean, confidence_level=0.95,random_state=42)\n",
    "\n",
    "print(f'''Utilizando o Bootstrap temos um intervalo de confiança de [{round(res.confidence_interval.low,2)},{round(res.confidence_interval.high,2)}] ''')\n"
   ]
  },
  {
   "cell_type": "markdown",
   "metadata": {},
   "source": [
    "**(b)** To what population of apartments can you appropriately infer from your sample?"
   ]
  },
  {
   "cell_type": "markdown",
   "metadata": {},
   "source": [
    "We can most accurately infer to Stats Cits apartments listed on EasyRent. <br/>\n",
    "We should not infer to _all_ apartments in Stats City because we do not know if apartments on EasyRent are representative of all apartments in Stats City."
   ]
  },
  {
   "cell_type": "markdown",
   "metadata": {},
   "source": [
    "**(c)** How large a sample of apartments be needed to estimate the population mean within $\\pm$ \\$50.0 with 90% confidence?"
   ]
  },
  {
   "cell_type": "code",
   "execution_count": 22,
   "metadata": {},
   "outputs": [
    {
     "name": "stdout",
     "output_type": "stream",
     "text": [
      "A amostra deverá ter um tamanho de 45.0 \n"
     ]
    }
   ],
   "source": [
    "#Para 90% de confiança temos um Z(alfa/2) = 1.64\n",
    "\n",
    "n = (1.64 * std_original/50)**2\n",
    "\n",
    "print(f'''A amostra deverá ter um tamanho de {round(n,0)} ''')"
   ]
  },
  {
   "cell_type": "markdown",
   "metadata": {},
   "source": [
    "### Questão 13\n",
    "\n",
    "In order to estimate the average height of the population of a town, a survey collected a sample containing the height of 400 people chosen at random. The file `'./datasets/heights.csv'` contains the registered heights.\n",
    "\n",
    "The average heights of a random sample of 400 people from a city is 1.75 m. It is known that the heights of the population are random variables that follow a normal distribution with a variance of 0.16."
   ]
  },
  {
   "cell_type": "markdown",
   "metadata": {},
   "source": [
    "**(a)** Construct a 95% confidence interval by using the Central Limit Theorem and Bootstrapping. Compare the results."
   ]
  },
  {
   "cell_type": "code",
   "execution_count": 23,
   "metadata": {},
   "outputs": [
    {
     "name": "stdout",
     "output_type": "stream",
     "text": [
      "A média da coluna height da base original é de 1.75\n",
      "\n",
      "O desvio padrão da coluna height da base original é de 0.4\n",
      "\n",
      "A nova média é 1.75 \n",
      "\n",
      "O novo desvio padrão é 0.07 \n",
      "\n",
      "Temos uma distribuição X ~N(1.75,0.07) \n",
      "\n",
      "Utilizando o Teorema Central do Limite temos um intervalo de confiança de [1.61,1.9]\n",
      "\n",
      "Utilizando o Bootstrap temos um intervalo de confiança de [1.71,1.79] \n"
     ]
    }
   ],
   "source": [
    "import pandas as pd\n",
    "import math\n",
    "\n",
    "#Carregando a base de dados\n",
    "dh = pd.read_csv('./datasets/heights.csv')\n",
    "\n",
    "#Calculando a média e desvio padrão da base\n",
    "\n",
    "media_original = dh['height'].mean()\n",
    "std_original = dh['height'].std()\n",
    "\n",
    "print(f'''A média da coluna height da base original é de {round(dh['height'].mean(),2)}\\n''')\n",
    "print(f'''O desvio padrão da coluna height da base original é de {round(dh['height'].std(),2)}\\n''')\n",
    "\n",
    "#Fazendo 100 amostras de 30, calculando a média e guardando em uma lista\n",
    "\n",
    "media = []\n",
    "\n",
    "for i in range(0,100):\n",
    "    dh_new = dh.sample(30)\n",
    "    media.append(dh_new['height'].mean())\n",
    "\n",
    "#Calculando a média da distribuição das médias\n",
    "\n",
    "nova_media = np.mean(media)\n",
    "\n",
    "print(f'''A nova média é {round(np.mean(media),2)} \\n''')\n",
    "\n",
    "#Calculando o novo desvio padrão\n",
    "\n",
    "novo_std = std_original/math.sqrt(30)\n",
    "\n",
    "print(f'''O novo desvio padrão é {round(std_original/math.sqrt(30),2)} \\n''')\n",
    "\n",
    "print(f'''Temos uma distribuição X ~N({round(nova_media,2)},{round(novo_std,2)}) \\n''')\n",
    "\n",
    "#Para uma confiança de 95% temos um Z = 1,96. Logo calculando o intervalo de confiança como sendo Z(alfa/2) * std / raiz(n)\n",
    "\n",
    "e = 1.96 * novo_std\n",
    "\n",
    "print(f'''Utilizando o Teorema Central do Limite temos um intervalo de confiança de [{round(nova_media-e,2)},{round(nova_media+e,2)}]\\n''')\n",
    "\n",
    "\n",
    "#Utilizando Bootstrap\n",
    "\n",
    "from scipy.stats import bootstrap\n",
    "\n",
    "#Transformando o DataFrame em numpy array\n",
    "\n",
    "dh_array = dh['height'].to_numpy()\n",
    "\n",
    "#Lendo a documentação, é necessário tranformar nosso numpy array em uma nupla. O código abaixo faz isso\n",
    "\n",
    "dh_array = (dh_array,)\n",
    "\n",
    "#Realizando o Bootstrap\n",
    "\n",
    "res = bootstrap(dh_array, np.mean, confidence_level=0.95,random_state=42)\n",
    "\n",
    "print(f'''Utilizando o Bootstrap temos um intervalo de confiança de [{round(res.confidence_interval.low,2)},{round(res.confidence_interval.high,2)}] ''')\n"
   ]
  },
  {
   "cell_type": "markdown",
   "metadata": {},
   "source": [
    "**(b)** With a confidence level of 90%, what would the minimum sample size need to be in order for the true mean of the heights to be less than 2 cm from the sample mean?"
   ]
  },
  {
   "cell_type": "code",
   "execution_count": 24,
   "metadata": {},
   "outputs": [
    {
     "name": "stdout",
     "output_type": "stream",
     "text": [
      "A amostra deverá ter um tamanho de 1078.0 \n"
     ]
    }
   ],
   "source": [
    "#Para 90% de confiança temos um Z(alfa/2) = 1.64\n",
    "\n",
    "n = (1.64 * std_original/0.02)**2\n",
    "\n",
    "print(f'''A amostra deverá ter um tamanho de {round(n,0)} ''')"
   ]
  },
  {
   "cell_type": "markdown",
   "metadata": {},
   "source": [
    "### Questão 14\n",
    "\n",
    "Monthly sales for a bakery follow a normal distribution with a standard deviation of \\\\$900.00. By statistically studying sales in the last 9 months, a confidence interval for the mean monthly sales of [\\\\$4,663.00, \\\\$5,839.00] was found."
   ]
  },
  {
   "cell_type": "markdown",
   "metadata": {},
   "source": [
    "**(a)** What were the average sales over the nine month period?"
   ]
  },
  {
   "cell_type": "code",
   "execution_count": 25,
   "metadata": {},
   "outputs": [
    {
     "name": "stdout",
     "output_type": "stream",
     "text": [
      "A média é de $5,251.00 \n"
     ]
    }
   ],
   "source": [
    "# Media - e = 4663 => Media = 4663 + e  (1)\n",
    "# Media + e = 5839 => Media = 5839 - e  (2)\n",
    "\n",
    "# Somando (1) e (2) temos:\n",
    "\n",
    "# 2*Media = 4663 + 5839 + e - e\n",
    "# 2*Media = 10502\n",
    "\n",
    "# Media = 5251\n",
    "\n",
    "print(f'''A média é de $5,251.00 ''')"
   ]
  },
  {
   "cell_type": "markdown",
   "metadata": {},
   "source": [
    "**(b)** What is the confidence level for this interval?"
   ]
  },
  {
   "cell_type": "code",
   "execution_count": 26,
   "metadata": {},
   "outputs": [
    {
     "name": "stdout",
     "output_type": "stream",
     "text": [
      "1.96\n",
      "Como z alfa/2 é 1.96 o confidence level é de 95% \n"
     ]
    }
   ],
   "source": [
    "# e = 5251 - 4663 = 588\n",
    "# e = z(alfa/2)*std/sqrt(n)\n",
    "# (e * sqrt(n))/std = z(alfa/2)\n",
    "\n",
    "z_alfa_2 = (588*math.sqrt(9))/900\n",
    "\n",
    "print(z_alfa_2)\n",
    "\n",
    "## 1.96\n",
    "\n",
    "print(f'''Como z alfa/2 é 1.96 o confidence level é de 95% ''')\n"
   ]
  },
  {
   "cell_type": "markdown",
   "metadata": {},
   "source": [
    "### Questão 15\n",
    "\n",
    "A survey was carried out to find out if Brazilians believe that Brazil will win the next world cup. A sample of 1000 Brazilians spread across the country and chosen at random was observed. Your result has been stored in file `./datasets/world_cup.csv`.\n",
    "\n",
    "Construct a 95% confidence interval on the Brazilian population who believes Brazil will win the next world cup. Use the method based on the Central Limit Theorem, Bootstrapping, and compare the results.\n",
    "\n",
    "**Tips**:\n",
    "- [Confidence Intervals for a Population Proportion](https://online.stat.psu.edu/stat100/lesson/9/9.1)\n",
    "- [statsmodels.stats.proportion.proportion_confint](https://www.statsmodels.org/dev/generated/statsmodels.stats.proportion.proportion_confint.html)"
   ]
  },
  {
   "cell_type": "code",
   "execution_count": 27,
   "metadata": {},
   "outputs": [
    {
     "name": "stdout",
     "output_type": "stream",
     "text": [
      "Utilizando o arquivo world_cup.csv temos que 48% acham que vão ganhar a copa do mundo num intevalo entre 44.9% e 51.1% \n",
      "\n",
      "Utilizando o Teorema Central do Limite\n",
      "\n",
      "A nova média é 0.47968 \n",
      "\n",
      "O novo desvio padrão é 0.02 \n",
      "\n",
      "Temos uma distribuição X ~N(0.48,0.02) \n",
      "\n",
      "Utilizando o Teorema Central do Limite temos um intervalo de confiança de [0.44,0.51]\n",
      "\n",
      "Utilizando o Bootstrap temos um intervalo de confiança de [0.45,0.51] \n"
     ]
    }
   ],
   "source": [
    "from statsmodels.stats.proportion import proportion_confint\n",
    "\n",
    "dcup = pd.read_csv('./datasets/world_cup.csv')\n",
    "\n",
    "dcup.groupby('will_win').size().reset_index(name='qtd')\n",
    "\n",
    "# De acordo com o group by acima temos 520 false e 480 true\n",
    "# Então temos um valor de 480/1000 = 48% acreditam que o Brasil irá ganhar a copa do mundo.\n",
    "# Utilizando o proportion_confint com 95% de confiança temos:\n",
    "\n",
    "ci_low, ci_high = proportion_confint(count = 480, nobs = 1000, alpha= 0.05, method='normal')\n",
    "\n",
    "print(f'''Utilizando o arquivo world_cup.csv temos que 48% acham que vão ganhar a copa do mundo num intevalo entre {round(ci_low*100,2)}% e {round(ci_high*100,2)}% \\n''')\n",
    "\n",
    "\n",
    "################ Teorema Central do Limite ################\n",
    "\n",
    "#Fazendo 100 amostras de 500, calculando a média dos que acham que o Brasil vai ganhar  e guardando em uma lista\n",
    "\n",
    "print(f'''Utilizando o Teorema Central do Limite\\n''')\n",
    "\n",
    "media = []\n",
    "\n",
    "for i in range(0,100):\n",
    "    dh_new = dcup.sample(500)\n",
    "    teste = dh_new.groupby('will_win').size().reset_index(name='qtd')\n",
    "    win = int(teste[teste['will_win'] == True]['qtd'].values)\n",
    "    media.append(win/500)\n",
    "\n",
    "#Calculando a média da distribuição das médias\n",
    "\n",
    "nova_media = np.mean(media)\n",
    "\n",
    "print(f'''A nova média é {round(np.mean(media),5)} \\n''')\n",
    "\n",
    "#Calculando o novo desvio padrão\n",
    "\n",
    "novo_std = std_original/math.sqrt(500)\n",
    "\n",
    "print(f'''O novo desvio padrão é {round(std_original/math.sqrt(500),2)} \\n''')\n",
    "\n",
    "print(f'''Temos uma distribuição X ~N({round(nova_media,2)},{round(novo_std,2)}) \\n''')\n",
    "\n",
    "#Para uma confiança de 95% temos um Z = 1,96. Logo calculando o intervalo de confiança como sendo Z(alfa/2) * std / raiz(n)\n",
    "\n",
    "e = 1.96 * novo_std\n",
    "\n",
    "print(f'''Utilizando o Teorema Central do Limite temos um intervalo de confiança de [{round(nova_media-e,2)},{round(nova_media+e,2)}]\\n''')\n",
    "\n",
    "#Utilizando Bootstrap\n",
    "\n",
    "from scipy.stats import bootstrap\n",
    "\n",
    "#Transformando o DataFrame em numpy array\n",
    "\n",
    "dh_array = dcup['will_win'].to_numpy()\n",
    "\n",
    "#Lendo a documentação, é necessário tranformar nosso numpy array em uma nupla. O código abaixo faz isso\n",
    "\n",
    "dh_array = (dh_array,)\n",
    "\n",
    "#Realizando o Bootstrap\n",
    "\n",
    "res = bootstrap(dh_array, np.sum, confidence_level=0.95,random_state=42)\n",
    "\n",
    "print(f'''Utilizando o Bootstrap temos um intervalo de confiança de [{round((res.confidence_interval.low)/1000,2)},{round(res.confidence_interval.high/1000,2)}] ''')"
   ]
  },
  {
   "cell_type": "markdown",
   "metadata": {},
   "source": [
    "### Questão 16\n",
    "\n",
    "The municipal administration wants to estimate the proportion of color blind in the city. For that, they observed a random sample of individuals, where the data is stored in the dataset `'./datasets/color_blind.csv'`. The column `color_blind` tells whether or not the person is colorblind."
   ]
  },
  {
   "cell_type": "markdown",
   "metadata": {},
   "source": [
    "**(a)** Construct a confidence interval for the proportion of the color blind population using a confidence level of 99%. Use the method based on the Central Limit Theorem, Bootstrapping, and compare the results."
   ]
  },
  {
   "cell_type": "code",
   "execution_count": 28,
   "metadata": {},
   "outputs": [
    {
     "name": "stdout",
     "output_type": "stream",
     "text": [
      "Utilizando o arquivo color_blind.csv temos que 34,375% são daltônicos num intevalo entre 19.08% e 49.67% \n",
      "\n",
      "Utilizando o Teorema Central do Limite\n",
      "\n",
      "A nova média é 0.34 \n",
      "\n",
      "O novo desvio padrão é 0.07 \n",
      "\n",
      "Temos uma distribuição X ~N(0.34,0.07) \n",
      "\n",
      "Utilizando o Teorema Central do Limite temos um intervalo de confiança de [0.16,0.53]\n",
      "\n",
      "Utilizando o Bootstrap temos um intervalo de confiança de [0.19,0.48] \n"
     ]
    }
   ],
   "source": [
    "from statsmodels.stats.proportion import proportion_confint\n",
    "\n",
    "df_cb = pd.read_csv('./datasets/color_blind.csv')\n",
    "\n",
    "df_cb.groupby('color_blind').size().reset_index(name='qtd')\n",
    "\n",
    "# De acordo com o group by acima temos 42 false e 22 true\n",
    "# Então temos um valor de 22/64 = 34,375% acreditam que são daltônicos\n",
    "# Utilizando o proportion_confint com 99% de confiança temos:\n",
    "\n",
    "ci_low, ci_high = proportion_confint(count = 22, nobs = 64, alpha= 0.01, method='normal')\n",
    "\n",
    "print(f'''Utilizando o arquivo color_blind.csv temos que 34,375% são daltônicos num intevalo entre {round(ci_low*100,2)}% e {round(ci_high*100,2)}% \\n''')\n",
    "\n",
    "################ Teorema Central do Limite ################\n",
    "\n",
    "#Fazendo 100 amostras de 32, calculando a média dos que acham que o Brasil vai ganhar  e guardando em uma lista\n",
    "\n",
    "print(f'''Utilizando o Teorema Central do Limite\\n''')\n",
    "\n",
    "media = []\n",
    "\n",
    "for i in range(0,100):\n",
    "    dh_new = df_cb.sample(32)\n",
    "    teste = dh_new.groupby('color_blind').size().reset_index(name='qtd')\n",
    "    blind = int(teste[teste['color_blind'] == True]['qtd'].values)\n",
    "    media.append(blind/32)\n",
    "\n",
    "#Calculando a média da distribuição das médias\n",
    "\n",
    "nova_media = np.mean(media)\n",
    "\n",
    "print(f'''A nova média é {round(np.mean(media),2)} \\n''')\n",
    "\n",
    "#Calculando o novo desvio padrão\n",
    "\n",
    "novo_std = std_original/math.sqrt(32)\n",
    "\n",
    "print(f'''O novo desvio padrão é {round(std_original/math.sqrt(32),2)} \\n''')\n",
    "\n",
    "print(f'''Temos uma distribuição X ~N({round(nova_media,2)},{round(novo_std,2)}) \\n''')\n",
    "\n",
    "#Para uma confiança de 99% temos um Z = 2.58. Logo calculando o intervalo de confiança como sendo Z(alfa/2) * std / raiz(n)\n",
    "\n",
    "e = 2.58 * novo_std\n",
    "\n",
    "print(f'''Utilizando o Teorema Central do Limite temos um intervalo de confiança de [{round(nova_media-e,2)},{round(nova_media+e,2)}]\\n''')\n",
    "\n",
    "\n",
    "#Utilizando Bootstrap\n",
    "\n",
    "from scipy.stats import bootstrap\n",
    "\n",
    "#Transformando o DataFrame em numpy array\n",
    "\n",
    "dh_array = df_cb['color_blind'].to_numpy()\n",
    "\n",
    "#Lendo a documentação, é necessário tranformar nosso numpy array em uma nupla. O código abaixo faz isso\n",
    "\n",
    "dh_array = (dh_array,)\n",
    "\n",
    "#Realizando o Bootstrap\n",
    "\n",
    "res = bootstrap(dh_array, np.sum, confidence_level=0.99,random_state=42)\n",
    "\n",
    "print(f'''Utilizando o Bootstrap temos um intervalo de confiança de [{round((res.confidence_interval.low)/64,2)},{round(res.confidence_interval.high/64,2)}] ''')"
   ]
  },
  {
   "cell_type": "markdown",
   "metadata": {},
   "source": [
    "**(b)** Consider that the the percentage of color blind people in the sample is 30%. Estimate the value of _n_ so that, with a significance level of 5%, the error in the estimate is less than 3.1%."
   ]
  },
  {
   "cell_type": "code",
   "execution_count": 29,
   "metadata": {},
   "outputs": [
    {
     "name": "stdout",
     "output_type": "stream",
     "text": [
      "O número de observações é de 839.0\n"
     ]
    }
   ],
   "source": [
    "#Margem de erro = 3.1%\n",
    "#Significance level = 5% => z = 1.96\n",
    "#Utilizando a fórmula de margem de erro para proporção, temos\n",
    "#Margem de erro = Z * sqrt (p*(1-p)/n)\n",
    "#Z = 1.96, p = 0.3, margem de erro = 3.1% e n = ?\n",
    "#Fazendo as devidas manipulações matemáticas temos\n",
    "\n",
    "e = 3.1/100\n",
    "p = 0.30\n",
    "z = 1.96\n",
    "\n",
    "n = p*(1-p)/(e/z)**2\n",
    "\n",
    "print(f'''O número de observações é de {round(n,0)}''')"
   ]
  },
  {
   "cell_type": "markdown",
   "metadata": {},
   "source": [
    "### Questão 17\n",
    "\n",
    "The GoodFood restaurant offers _lunch_ and _dinner_ meals. There are two types of drinks: _juice_ and _soda_. GoodFood's manager suspects customers drink more soda at dinner. The manager randomly selects data from the system and the data was stored in the dataset `./datasets/goodfood.csv`. Each row contains the information of the meal time (column `meal`) and type of drink (column `drink`) ordered by the customer.\n",
    "\n",
    "Construct a 98% confidence interval for the proportion of ordering _soda_ for _dinner_ hours. Use the method based on the Central Limit Theorem, Bootstrapping, and compare the results."
   ]
  },
  {
   "cell_type": "code",
   "execution_count": 30,
   "metadata": {},
   "outputs": [
    {
     "data": {
      "text/html": [
       "<div>\n",
       "<style scoped>\n",
       "    .dataframe tbody tr th:only-of-type {\n",
       "        vertical-align: middle;\n",
       "    }\n",
       "\n",
       "    .dataframe tbody tr th {\n",
       "        vertical-align: top;\n",
       "    }\n",
       "\n",
       "    .dataframe thead th {\n",
       "        text-align: right;\n",
       "    }\n",
       "</style>\n",
       "<table border=\"1\" class=\"dataframe\">\n",
       "  <thead>\n",
       "    <tr style=\"text-align: right;\">\n",
       "      <th></th>\n",
       "      <th>drink</th>\n",
       "      <th>meal</th>\n",
       "      <th>QTD</th>\n",
       "    </tr>\n",
       "  </thead>\n",
       "  <tbody>\n",
       "    <tr>\n",
       "      <th>0</th>\n",
       "      <td>Juice</td>\n",
       "      <td>Dinner</td>\n",
       "      <td>36</td>\n",
       "    </tr>\n",
       "    <tr>\n",
       "      <th>1</th>\n",
       "      <td>Juice</td>\n",
       "      <td>Lunch</td>\n",
       "      <td>19</td>\n",
       "    </tr>\n",
       "    <tr>\n",
       "      <th>2</th>\n",
       "      <td>Soda</td>\n",
       "      <td>Dinner</td>\n",
       "      <td>41</td>\n",
       "    </tr>\n",
       "    <tr>\n",
       "      <th>3</th>\n",
       "      <td>Soda</td>\n",
       "      <td>Lunch</td>\n",
       "      <td>11</td>\n",
       "    </tr>\n",
       "  </tbody>\n",
       "</table>\n",
       "</div>"
      ],
      "text/plain": [
       "   drink    meal  QTD\n",
       "0  Juice  Dinner   36\n",
       "1  Juice   Lunch   19\n",
       "2   Soda  Dinner   41\n",
       "3   Soda   Lunch   11"
      ]
     },
     "execution_count": 30,
     "metadata": {},
     "output_type": "execute_result"
    }
   ],
   "source": [
    "dgood = pd.read_csv('./datasets/goodfood.csv')\n",
    "\n",
    "dgood.groupby(['drink', 'meal']).size().reset_index(name='QTD')"
   ]
  },
  {
   "cell_type": "code",
   "execution_count": 31,
   "metadata": {},
   "outputs": [
    {
     "data": {
      "text/html": [
       "<div>\n",
       "<style scoped>\n",
       "    .dataframe tbody tr th:only-of-type {\n",
       "        vertical-align: middle;\n",
       "    }\n",
       "\n",
       "    .dataframe tbody tr th {\n",
       "        vertical-align: top;\n",
       "    }\n",
       "\n",
       "    .dataframe thead th {\n",
       "        text-align: right;\n",
       "    }\n",
       "</style>\n",
       "<table border=\"1\" class=\"dataframe\">\n",
       "  <thead>\n",
       "    <tr style=\"text-align: right;\">\n",
       "      <th></th>\n",
       "      <th>drink</th>\n",
       "      <th>meal</th>\n",
       "      <th>Soda_Dinner</th>\n",
       "      <th>QTD</th>\n",
       "    </tr>\n",
       "  </thead>\n",
       "  <tbody>\n",
       "    <tr>\n",
       "      <th>0</th>\n",
       "      <td>Juice</td>\n",
       "      <td>Dinner</td>\n",
       "      <td>0</td>\n",
       "      <td>36</td>\n",
       "    </tr>\n",
       "    <tr>\n",
       "      <th>1</th>\n",
       "      <td>Juice</td>\n",
       "      <td>Lunch</td>\n",
       "      <td>0</td>\n",
       "      <td>19</td>\n",
       "    </tr>\n",
       "    <tr>\n",
       "      <th>2</th>\n",
       "      <td>Soda</td>\n",
       "      <td>Dinner</td>\n",
       "      <td>1</td>\n",
       "      <td>41</td>\n",
       "    </tr>\n",
       "    <tr>\n",
       "      <th>3</th>\n",
       "      <td>Soda</td>\n",
       "      <td>Lunch</td>\n",
       "      <td>0</td>\n",
       "      <td>11</td>\n",
       "    </tr>\n",
       "  </tbody>\n",
       "</table>\n",
       "</div>"
      ],
      "text/plain": [
       "   drink    meal  Soda_Dinner  QTD\n",
       "0  Juice  Dinner            0   36\n",
       "1  Juice   Lunch            0   19\n",
       "2   Soda  Dinner            1   41\n",
       "3   Soda   Lunch            0   11"
      ]
     },
     "execution_count": 31,
     "metadata": {},
     "output_type": "execute_result"
    }
   ],
   "source": [
    "# De acordo com o dataframe acima temos 41 que tomar Soda no Jantar o que representa cerca de 38%\n",
    "# Irei criar uma coluna chamada Soda_Dinner que vai receber 1 \n",
    "# quando o valor da coluna \"drik\" é igual a Soda e a coluna \"meal\" for igual a Dinner\n",
    "# Isso irá facilitar na amostragem\n",
    "\n",
    "dgood['Soda_Dinner'] = dgood.apply(lambda row: 1 if row['drink'] == 'Soda' and row['meal'] == 'Dinner' else 0, axis=1)\n",
    "\n",
    "dgood.groupby(['drink', 'meal', 'Soda_Dinner']).size().reset_index(name='QTD')"
   ]
  },
  {
   "cell_type": "code",
   "execution_count": 32,
   "metadata": {},
   "outputs": [
    {
     "name": "stdout",
     "output_type": "stream",
     "text": [
      "Utilizando o Teorema Central do Limite\n",
      "\n",
      "A nova média é 0.39 \n",
      "\n",
      "O novo desvio padrão é 0.07 \n",
      "\n",
      "Temos uma distribuição X ~N(0.39,0.07) \n",
      "\n",
      "Utilizando o Teorema Central do Limite temos um intervalo de confiança de [0.23,0.56]\n",
      "\n",
      "Utilizando o Bootstrap temos um intervalo de confiança de [0.27,0.49] \n"
     ]
    }
   ],
   "source": [
    "################ Teorema Central do Limite ################\n",
    "\n",
    "#Fazendo 100 amostras de 54\n",
    "\n",
    "print(f'''Utilizando o Teorema Central do Limite\\n''')\n",
    "\n",
    "media = []\n",
    "\n",
    "for i in range(0,100):\n",
    "    dh_new = dgood.sample(54)\n",
    "    teste = dh_new.groupby('Soda_Dinner').size().reset_index(name='qtd')\n",
    "    Soda = int(teste[teste['Soda_Dinner'] == 1]['qtd'].values)\n",
    "    media.append(Soda/54)\n",
    "\n",
    "#Calculando a média da distribuição das médias\n",
    "\n",
    "nova_media = np.mean(media)\n",
    "\n",
    "print(f'''A nova média é {round(np.mean(media),2)} \\n''')\n",
    "\n",
    "#Calculando o novo desvio padrão\n",
    "\n",
    "novo_std = std_original/math.sqrt(32)\n",
    "\n",
    "print(f'''O novo desvio padrão é {round(std_original/math.sqrt(32),2)} \\n''')\n",
    "\n",
    "print(f'''Temos uma distribuição X ~N({round(nova_media,2)},{round(novo_std,2)}) \\n''')\n",
    "\n",
    "#Para uma confiança de 98% temos um Z = 2.33. Logo calculando o intervalo de confiança como sendo Z(alfa/2) * std / raiz(n)\n",
    "\n",
    "e = 2.33 * novo_std\n",
    "\n",
    "print(f'''Utilizando o Teorema Central do Limite temos um intervalo de confiança de [{round(nova_media-e,2)},{round(nova_media+e,2)}]\\n''')\n",
    "\n",
    "\n",
    "#Utilizando Bootstrap\n",
    "\n",
    "from scipy.stats import bootstrap\n",
    "\n",
    "#Transformando o DataFrame em numpy array\n",
    "\n",
    "dh_array = dgood['Soda_Dinner'].to_numpy()\n",
    "\n",
    "#Lendo a documentação, é necessário tranformar nosso numpy array em uma nupla. O código abaixo faz isso\n",
    "\n",
    "dh_array = (dh_array,)\n",
    "\n",
    "#Realizando o Bootstrap\n",
    "\n",
    "res = bootstrap(dh_array, np.sum, confidence_level=0.98,random_state=42)\n",
    "\n",
    "print(f'''Utilizando o Bootstrap temos um intervalo de confiança de [{round((res.confidence_interval.low)/107,2)},{round(res.confidence_interval.high/107,2)}] ''')"
   ]
  }
 ],
 "metadata": {
  "kernelspec": {
   "display_name": "Python 3",
   "language": "python",
   "name": "python3"
  },
  "language_info": {
   "codemirror_mode": {
    "name": "ipython",
    "version": 3
   },
   "file_extension": ".py",
   "mimetype": "text/x-python",
   "name": "python",
   "nbconvert_exporter": "python",
   "pygments_lexer": "ipython3",
   "version": "3.7.6"
  }
 },
 "nbformat": 4,
 "nbformat_minor": 5
}
